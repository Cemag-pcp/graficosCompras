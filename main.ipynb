{
 "cells": [
  {
   "cell_type": "code",
   "execution_count": 1,
   "metadata": {},
   "outputs": [],
   "source": [
    "import gspread\n",
    "import pandas as pd\n",
    "import warnings\n",
    "import matplotlib.pyplot as plt\n",
    "import plotly.graph_objs as go\n",
    "\n",
    "warnings.filterwarnings(\"ignore\")\n",
    "\n",
    "filename = 'service_account.json'"
   ]
  },
  {
   "cell_type": "code",
   "execution_count": 3,
   "metadata": {},
   "outputs": [],
   "source": [
    "## Conectando com google sheets e acessando planilha\n",
    "\n",
    "sheet = 'Análise Previsão de Consumo (CMM / NTP ) DEE'\n",
    "worksheet = 'testesGraficos'\n",
    "\n",
    "sa = gspread.service_account(filename)\n",
    "sh = sa.open(sheet)\n",
    "wks = sh.worksheet(worksheet)\n",
    "\n",
    "produtos = pd.read_csv(\"produtos.csv\", sep=';')\n",
    "\n",
    "for produto in range(0,5):\n",
    "\n",
    "    wks.update('AA2', produtos['ID'][produto])\n",
    "\n",
    "    headers = wks.row_values(2)\n",
    "\n",
    "    base = wks.get()\n",
    "    base = pd.DataFrame(base)\n",
    "    base = base.set_axis(headers, axis=1, inplace=False)[2:]\n",
    "\n",
    "    ## Tratando planilha \n",
    "\n",
    "    base = base.iloc[:,5:14].dropna(axis=0)\n",
    "\n",
    "    teste = base[['datas_tb2','saldo atual_tb2', 'estoque minimo_tb2', 'corrigido_tb2']]\n",
    "    teste['datas_tb2'] = pd.to_datetime(teste['datas_tb2'], format='%d/%m/%Y')\n",
    "\n",
    "    teste['saldo atual_tb2'] = teste['saldo atual_tb2'].apply(lambda x: float(x.replace('.', '').replace(',', '.')))\n",
    "    teste['estoque minimo_tb2'] = teste['estoque minimo_tb2'].apply(lambda x: float(x.replace('.', '').replace(',', '.')))\n",
    "    teste['corrigido_tb2'] = teste['corrigido_tb2'].apply(lambda x: float(x.replace('.', '').replace(',', '.')))\n",
    "\n",
    "    teste['saldo atual_tb2'] = teste['saldo atual_tb2'].astype(float)\n",
    "\n",
    "    desc = pd.DataFrame(teste.describe(include='all'))\n",
    "    min = desc['datas_tb2'][4]\n",
    "    max = desc['datas_tb2'][5]\n",
    "\n",
    "    ## Plotando gráficos\n",
    "\n",
    "    plt.figure(figsize=(10,5))\n",
    "\n",
    "    plt.plot(teste['datas_tb2'],teste['saldo atual_tb2'], color='black')\n",
    "    plt.plot(teste['datas_tb2'],teste['estoque minimo_tb2'], color='blue')\n",
    "    plt.plot(teste['datas_tb2'],teste['corrigido_tb2'], alpha=0.5, color='red')\n",
    "\n",
    "    plt.title('Produto: ' + produtos['ID'][produto])\n",
    "    plt.xlabel('Data')\n",
    "    plt.ylabel('Valores')\n",
    "    plt.grid(True)\n",
    "    plt.xlim(min, max)\n",
    "    plt.legend([\"Consumo real\", \"Estoque mínimo\", \"Consumo corrigido\"]) \n",
    "    plt.show();"
   ]
  }
 ],
 "metadata": {
  "kernelspec": {
   "display_name": "app_op",
   "language": "python",
   "name": "python3"
  },
  "language_info": {
   "codemirror_mode": {
    "name": "ipython",
    "version": 3
   },
   "file_extension": ".py",
   "mimetype": "text/x-python",
   "name": "python",
   "nbconvert_exporter": "python",
   "pygments_lexer": "ipython3",
   "version": "3.9.15"
  },
  "orig_nbformat": 4
 },
 "nbformat": 4,
 "nbformat_minor": 2
}
